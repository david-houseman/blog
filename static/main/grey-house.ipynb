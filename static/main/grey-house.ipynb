{
 "cells": [
  {
   "cell_type": "code",
   "execution_count": 1,
   "id": "automatic-assembly",
   "metadata": {},
   "outputs": [],
   "source": [
    "import numpy as np\n",
    "import matplotlib.pyplot as plt"
   ]
  },
  {
   "cell_type": "code",
   "execution_count": 7,
   "id": "considered-malawi",
   "metadata": {},
   "outputs": [
    {
     "data": {
      "image/png": "[encoded data removed]",
      "text/plain": [
       "<Figure size 36x36 with 1 Axes>"
      ]
     },
     "metadata": {
      "needs_background": "light"
     },
     "output_type": "display_data"
    }
   ],
   "source": [
    "plt.figure(figsize=(0.5, 0.5))\n",
    "plt.gca().set_aspect('equal')\n",
    "plt.axis('off')\n",
    "\n",
    "xs = np.linspace(0.0, 1.0, 101)\n",
    "plt.plot(np.cos(xs * 2.0 * np.pi), np.sin(xs * 2.0 * np.pi), color='black')\n",
    "\n",
    "js = np.arange(6)\n",
    "plt.plot(np.cos(js * 2.0 * np.pi / 5.0), np.sin(js * 2.0 * np.pi / 5.0))\n",
    "\n",
    "plt.plot([1, 0, np.cos(2.0 * np.pi / 5.0)], [0, 0, np.sin(2.0 * np.pi / 5.0)], color='black')\n",
    "# plt.plot(0.2 * np.cos(xs * 2.0 * np.pi / 5.0), 0.2 * np.sin(xs * 2.0 * np.pi / 5.0), color='black')\n",
    "\n",
    "# plt.text(0.25 * np.cos(np.pi / 5.0), 0.25 * np.sin(np.pi / 5.0), '$2 \\pi / 5$')\n",
    "# plt.text(1.05 * np.cos(2.0 * np.pi / 5.0), 1.05 * np.sin(2.0 * np.pi / 5.0), '$z = a + ib$')\n",
    "# plt.text(1.05 * np.cos(4.0 * np.pi / 5.0), 1.05 * np.sin(4.0 * np.pi / 5.0), '$z^2$', horizontalalignment='right')\n",
    "# plt.text(1.05 * np.cos(6.0 * np.pi / 5.0), 1.05 * np.sin(6.0 * np.pi / 5.0), '$z^3$', horizontalalignment='right')\n",
    "# plt.text(1.05 * np.cos(8.0 * np.pi / 5.0), 1.05 * np.sin(8.0 * np.pi / 5.0), '$z^4$')\n",
    "\n",
    "plt.savefig('grey-house.svg')\n"
   ]
  },
  {
   "cell_type": "code",
   "execution_count": null,
   "id": "mineral-adult",
   "metadata": {},
   "outputs": [],
   "source": []
  }
 ],
 "metadata": {
  "kernelspec": {
   "display_name": "Python 3",
   "language": "python",
   "name": "python3"
  },
  "language_info": {
   "codemirror_mode": {
    "name": "ipython",
    "version": 3
   },
   "file_extension": ".py",
   "mimetype": "text/x-python",
   "name": "python",
   "nbconvert_exporter": "python",
   "pygments_lexer": "ipython3",
   "version": "3.9.2"
  }
 },
 "nbformat": 4,
 "nbformat_minor": 5
}
