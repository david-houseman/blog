{
 "cells": [
  {
   "cell_type": "code",
   "execution_count": 17,
   "id": "varied-crossing",
   "metadata": {},
   "outputs": [],
   "source": [
    "import math\n",
    "import cmath\n",
    "import numpy as np\n",
    "import matplotlib.pyplot as plt"
   ]
  },
  {
   "cell_type": "code",
   "execution_count": 18,
   "id": "purple-johns",
   "metadata": {},
   "outputs": [],
   "source": [
    "def ctext(z, text):\n",
    "    plt.text(z.real, z.imag, text, horizontalalignment='center', verticalalignment='center')"
   ]
  },
  {
   "cell_type": "code",
   "execution_count": 19,
   "id": "extra-surface",
   "metadata": {},
   "outputs": [
    {
     "data": {
      "text/plain": [
       "1.618033988749895"
      ]
     },
     "execution_count": 19,
     "metadata": {},
     "output_type": "execute_result"
    }
   ],
   "source": [
    "g = (1 + math.sqrt(5)) / 2\n",
    "g"
   ]
  },
  {
   "cell_type": "code",
   "execution_count": 46,
   "id": "female-house",
   "metadata": {},
   "outputs": [
    {
     "data": {
      "image/png": "[encoded data removed]",
      "text/plain": [
       "<Figure size 432x432 with 1 Axes>"
      ]
     },
     "metadata": {
      "needs_background": "light"
     },
     "output_type": "display_data"
    }
   ],
   "source": [
    "pa = complex(1, 0)\n",
    "pb = complex(0, 0)\n",
    "pc = np.exp(1j * math.pi / 5)\n",
    "\n",
    "pd = pa / g + pb * (1 - 1 / g)\n",
    "\n",
    "plt.figure(figsize=(6, 6))\n",
    "plt.gca().set_aspect('equal')\n",
    "plt.axis('off')\n",
    "\n",
    "plt.plot([pa.real, pb.real, pc.real], [pa.imag, pb.imag, pc.imag], color='black')\n",
    "\n",
    "plt.plot([pc.real, pa.real], [pc.imag, pa.imag], color='black', ls='dashed')\n",
    "plt.plot([pc.real, pd.real], [pc.imag, pd.imag], color='black', ls='dashed')\n",
    "\n",
    "def ctext(z, text):\n",
    "    plt.text(z.real, z.imag, text, horizontalalignment='center', verticalalignment='center')\n",
    "\n",
    "ctext(pa + 0.03 - 0.03j, 'A')\n",
    "ctext(pb - 0.03 - 0.03j, 'B')\n",
    "ctext(pc + 0.03j, 'C')\n",
    "ctext(pd - 0.05j, 'D')\n",
    "\n",
    "ctext(pa - 0.07 + 0.03j, '$2 \\pi / 5$')\n",
    "ctext(pd + 0.07 + 0.03j, '$2 \\pi / 5$')\n",
    "ctext(pc - 0.12j, '$\\pi / 5$')\n",
    "ctext(pd - 0.05 + 0.03j, '$3 \\pi / 5$')\n",
    "ctext(pc - 0.1 - 0.12j, '$\\pi / 5$')\n",
    "ctext(pb + 0.1 + 0.03j, '$\\pi / 5$')\n",
    "\n",
    "ctext((pa + pd) / 2 - 0.05j, '$1 - 1 / \\phi$')\n",
    "ctext((pb + pd) / 2 - 0.05j, '$1 / \\phi$')\n",
    "ctext((pb + pc) / 2 + 0.05j, '1')\n",
    "ctext((pc + pd) / 2 - 0.05, '$1 / \\phi$')\n",
    "ctext((pc + pa) / 2 + 0.05, '$1 / \\phi$')\n",
    "\n",
    "plt.savefig('thin-rhomb-subdivision.png')"
   ]
  },
  {
   "cell_type": "code",
   "execution_count": 47,
   "id": "consecutive-ticket",
   "metadata": {},
   "outputs": [
    {
     "data": {
      "image/png": "[encoded data removed]",
      "text/plain": [
       "<Figure size 432x432 with 1 Axes>"
      ]
     },
     "metadata": {
      "needs_background": "light"
     },
     "output_type": "display_data"
    }
   ],
   "source": [
    "px = complex(0, 0)\n",
    "py = complex(1, 0)\n",
    "pz = complex(1, 0) + np.exp(2j * math.pi / 5)\n",
    "\n",
    "pu = pz / g + px * (1 - 1 / g)\n",
    "pv = py / g + px * (1 - 1 / g)\n",
    "\n",
    "plt.figure(figsize=(6, 6))\n",
    "plt.gca().set_aspect('equal')\n",
    "plt.axis('off')\n",
    "\n",
    "plt.plot([px.real, py.real, pz.real], [px.imag, py.imag, pz.imag], color='black')\n",
    "\n",
    "plt.plot([px.real, pz.real], [px.imag, pz.imag], color='black', ls='dashed')\n",
    "plt.plot([py.real, pu.real], [py.imag, pu.imag], color='black', ls='dashed')\n",
    "plt.plot([pv.real, pu.real], [pv.imag, pu.imag], color='black', ls='dashed')\n",
    "\n",
    "ctext(px - 0.03 - 0.03j, 'X')\n",
    "ctext(py + 0.03 - 0.03j, 'Y')\n",
    "ctext(pz + 0.03j, 'Z')\n",
    "ctext(pu + 0.05j, 'U')\n",
    "ctext(pv - 0.05j, 'V')\n",
    "\n",
    "ctext(px + 0.1 + 0.03j, '$\\pi / 5$')\n",
    "ctext(pz - 0.1 - 0.12j, '$\\pi / 5$')\n",
    "ctext(pu - 0.1 - 0.12j, '$\\pi / 5$')\n",
    "ctext(pu + 0.08, '$3 \\pi / 5$')\n",
    "ctext(pu - 0.15j, '$\\pi / 5$')\n",
    "ctext(py + 0.15j, '$\\pi / 5$')\n",
    "ctext(py - 0.07 + 0.03j, '$2 \\pi / 5$')\n",
    "ctext(pv + 0.07 + 0.03j, '$2 \\pi / 5$')\n",
    "ctext(pv - 0.07 + 0.03j, '$3 \\pi / 5$')\n",
    "\n",
    "ctext((px + pv) / 2 - 0.05j, '$1 / \\phi$')\n",
    "ctext((pv + py) / 2 - 0.05j, '$1 - 1 / \\phi$')\n",
    "ctext((py + pz) / 2 + 0.05, '1')\n",
    "ctext((px + pu) / 2 + 0.05j, '1')\n",
    "ctext((pu + pz) / 2 + 0.05j, '$1 / \\phi$')\n",
    "ctext((pu + pv) / 2 - 0.05, '$1 / \\phi$')\n",
    "ctext((pu + py) / 2 + 0.05, '$1 / \\phi$')\n",
    "\n",
    "plt.savefig('thick-rhomb-subdivision.png')"
   ]
  },
  {
   "cell_type": "code",
   "execution_count": null,
   "id": "advance-april",
   "metadata": {},
   "outputs": [],
   "source": []
  }
 ],
 "metadata": {
  "kernelspec": {
   "display_name": "Python 3",
   "language": "python",
   "name": "python3"
  },
  "language_info": {
   "codemirror_mode": {
    "name": "ipython",
    "version": 3
   },
   "file_extension": ".py",
   "mimetype": "text/x-python",
   "name": "python",
   "nbconvert_exporter": "python",
   "pygments_lexer": "ipython3",
   "version": "3.9.2"
  }
 },
 "nbformat": 4,
 "nbformat_minor": 5
}
